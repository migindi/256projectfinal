{
 "cells": [
  {
   "cell_type": "code",
   "execution_count": 8,
   "metadata": {},
   "outputs": [
    {
     "name": "stdout",
     "output_type": "stream",
     "text": [
      "Do you have a fever (y/n): no\n",
      "Do you have a rash (y/n): no\n",
      "Does your ear hurt (y/n): no\n",
      "Do you have a stuffy nose (y/n): no\n"
     ]
    }
   ],
   "source": [
    "\n",
    "#Get user inputs on whether they have specific conditions\n",
    "userFever = input(\"Do you have a fever (y/n): \")\n",
    "\n",
    "\n",
    "userRash = input(\"Do you have a rash (y/n): \")\n",
    "\n",
    "userEar = input(\"Does your ear hurt (y/n): \")\n",
    "\n",
    "\n",
    "userNose = input(\"Do you have a stuffy nose (y/n): \")\n",
    "\n",
    "\n",
    "\n",
    "#Conditional statements that determine the diagnosis of the user\n",
    "if userFever == 'n' and userNose == 'n':\n",
    "    print(\"Diagnosis: You are Hypchondriac\")\n",
    "elif userFever == 'n' and userNose == 'y':\n",
    "    print(\"Diagnosis: You have a Head Cold\")\n",
    "elif userFever == 'y' and userRash == 'n' and userEar == 'y':\n",
    "    print(\"Diagnosis: You have an ear infection\")\n",
    "elif userFever == 'y' and userRash == 'n' and userEar == 'n':\n",
    "    print(\"Diagnosis: You have the flu\")\n",
    "elif userFever == 'y' and userRash == 'y':\n",
    "    print(\"Diagnosis: You have the measles\")[1]"
   ]
  },
  {
   "cell_type": "code",
   "execution_count": null,
   "metadata": {},
   "outputs": [],
   "source": []
  },
  {
   "cell_type": "code",
   "execution_count": null,
   "metadata": {},
   "outputs": [],
   "source": []
  }
 ],
 "metadata": {
  "kernelspec": {
   "display_name": "Python 3",
   "language": "python",
   "name": "python3"
  },
  "language_info": {
   "codemirror_mode": {
    "name": "ipython",
    "version": 3
   },
   "file_extension": ".py",
   "mimetype": "text/x-python",
   "name": "python",
   "nbconvert_exporter": "python",
   "pygments_lexer": "ipython3",
   "version": "3.6.6"
  }
 },
 "nbformat": 4,
 "nbformat_minor": 2
}
