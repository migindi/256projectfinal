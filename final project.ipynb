{
 "cells": [
  {
   "cell_type": "code",
   "execution_count": null,
   "metadata": {},
   "outputs": [],
   "source": []
  },
  {
   "cell_type": "code",
   "execution_count": 1,
   "metadata": {},
   "outputs": [
    {
     "name": "stdout",
     "output_type": "stream",
     "text": [
      "{'updated_at': '2019-03-04T19:13:02Z', 'conditions_count': 610, 'symptoms_count': 1185, 'risk_factors_count': 103, 'lab_tests_count': 486}\n"
     ]
    }
   ],
   "source": [
    "import infermedica_api\n",
    "api = infermedica_api.API(app_id='6e943b86', app_key='99f96a18061377ea160150a5e5e63ec9')\n",
    "\n",
    "print(api.info())"
   ]
  },
  {
   "cell_type": "code",
   "execution_count": 2,
   "metadata": {},
   "outputs": [
    {
     "data": {
      "text/plain": [
       "<infermedica_api.webservice.API at 0x1114e0f60>"
      ]
     },
     "execution_count": 2,
     "metadata": {},
     "output_type": "execute_result"
    }
   ],
   "source": [
    "import infermedica_api\n",
    "\n",
    "infermedica_api.configure(app_id='6e943b86', app_key='99f96a18061377ea160150a5e5e63ec9')"
   ]
  },
  {
   "cell_type": "code",
   "execution_count": 3,
   "metadata": {},
   "outputs": [
    {
     "name": "stdout",
     "output_type": "stream",
     "text": [
      "{\n",
      "    \"extras\": {},\n",
      "    \"items\": [\n",
      "        {\n",
      "            \"choices\": [\n",
      "                {\n",
      "                    \"id\": \"present\",\n",
      "                    \"label\": \"Yes\"\n",
      "                },\n",
      "                {\n",
      "                    \"id\": \"absent\",\n",
      "                    \"label\": \"No\"\n",
      "                },\n",
      "                {\n",
      "                    \"id\": \"unknown\",\n",
      "                    \"label\": \"Don't know\"\n",
      "                }\n",
      "            ],\n",
      "            \"id\": \"s_1780\",\n",
      "            \"name\": \"Mild\"\n",
      "        },\n",
      "        {\n",
      "            \"choices\": [\n",
      "                {\n",
      "                    \"id\": \"present\",\n",
      "                    \"label\": \"Yes\"\n",
      "                },\n",
      "                {\n",
      "                    \"id\": \"absent\",\n",
      "                    \"label\": \"No\"\n",
      "                },\n",
      "                {\n",
      "                    \"id\": \"unknown\",\n",
      "                    \"label\": \"Don't know\"\n",
      "                }\n",
      "            ],\n",
      "            \"id\": \"s_1781\",\n",
      "            \"name\": \"Moderate\"\n",
      "        },\n",
      "        {\n",
      "            \"choices\": [\n",
      "                {\n",
      "                    \"id\": \"present\",\n",
      "                    \"label\": \"Yes\"\n",
      "                },\n",
      "                {\n",
      "                    \"id\": \"absent\",\n",
      "                    \"label\": \"No\"\n",
      "                },\n",
      "                {\n",
      "                    \"id\": \"unknown\",\n",
      "                    \"label\": \"Don't know\"\n",
      "                }\n",
      "            ],\n",
      "            \"id\": \"s_1193\",\n",
      "            \"name\": \"Severe\"\n",
      "        }\n",
      "    ],\n",
      "    \"text\": \"How strong is your headache?\",\n",
      "    \"type\": \"group_single\"\n",
      "}\n",
      "How strong is your headache?\n",
      "[{'id': 's_1780', 'name': 'Mild', 'choices': [{'id': 'present', 'label': 'Yes'}, {'id': 'absent', 'label': 'No'}, {'id': 'unknown', 'label': \"Don't know\"}]}, {'id': 's_1781', 'name': 'Moderate', 'choices': [{'id': 'present', 'label': 'Yes'}, {'id': 'absent', 'label': 'No'}, {'id': 'unknown', 'label': \"Don't know\"}]}, {'id': 's_1193', 'name': 'Severe', 'choices': [{'id': 'present', 'label': 'Yes'}, {'id': 'absent', 'label': 'No'}, {'id': 'unknown', 'label': \"Don't know\"}]}]\n",
      "s_1780\n",
      "Mild\n",
      "[{'id': 'present', 'label': 'Yes'}, {'id': 'absent', 'label': 'No'}, {'id': 'unknown', 'label': \"Don't know\"}]\n",
      "present\n",
      "Yes\n",
      "[\n",
      "    {\n",
      "        \"common_name\": \"Common cold\",\n",
      "        \"id\": \"c_87\",\n",
      "        \"name\": \"Common cold\",\n",
      "        \"probability\": 0.0544\n",
      "    },\n",
      "    {\n",
      "        \"common_name\": \"Gastroenteritis\",\n",
      "        \"id\": \"c_10\",\n",
      "        \"name\": \"Gastroenteritis\",\n",
      "        \"probability\": 0.0247\n",
      "    },\n",
      "    {\n",
      "        \"common_name\": \"Tension-type headaches\",\n",
      "        \"id\": \"c_55\",\n",
      "        \"name\": \"Tension-type headaches\",\n",
      "        \"probability\": 0.0187\n",
      "    },\n",
      "    {\n",
      "        \"common_name\": \"Food poisoning\",\n",
      "        \"id\": \"c_138\",\n",
      "        \"name\": \"Food poisoning\",\n",
      "        \"probability\": 0.0179\n",
      "    },\n",
      "    {\n",
      "        \"common_name\": \"Hypertension\",\n",
      "        \"id\": \"c_50\",\n",
      "        \"name\": \"Hypertension\",\n",
      "        \"probability\": 0.0165\n",
      "    },\n",
      "    {\n",
      "        \"common_name\": \"Strep throat\",\n",
      "        \"id\": \"c_249\",\n",
      "        \"name\": \"Acute streptococcal tonsillopharyngitis\",\n",
      "        \"probability\": 0.0115\n",
      "    },\n",
      "    {\n",
      "        \"common_name\": \"Inflammation of the gallbladder\",\n",
      "        \"id\": \"c_215\",\n",
      "        \"name\": \"Cholecystitis\",\n",
      "        \"probability\": 0.0101\n",
      "    },\n",
      "    {\n",
      "        \"common_name\": \"Migraine\",\n",
      "        \"id\": \"c_49\",\n",
      "        \"name\": \"Migraine\",\n",
      "        \"probability\": 0.0094\n",
      "    }\n",
      "]\n",
      "c_87\n",
      "Common cold\n",
      "0.0544\n"
     ]
    }
   ],
   "source": [
    "\n",
    "    \n",
    "import infermedica_api\n",
    "\n",
    "api = infermedica_api.get_api()\n",
    "\n",
    "# Create diagnosis object with initial patient information.\n",
    "# Note that time argument is optional here as well as in the add_symptom function\n",
    "request = infermedica_api.Diagnosis(sex='male', age=20)\n",
    "\n",
    "request.add_symptom('s_21', 'present')\n",
    "request.add_symptom('s_98', 'present')\n",
    "request.add_symptom('s_107', 'absent')\n",
    "\n",
    "# call diagnosis\n",
    "request = api.diagnosis(request)\n",
    "\n",
    "# Access question asked by API\n",
    "print(request.question)\n",
    "print(request.question.text)  # actual text of the question\n",
    "print(request.question.items)  # list of related evidences with possible answers\n",
    "print(request.question.items[0]['id'])\n",
    "print(request.question.items[0]['name'])\n",
    "print(request.question.items[0]['choices'])  # list of possible answers\n",
    "print(request.question.items[0]['choices'][0]['id'])  # answer id\n",
    "print(request.question.items[0]['choices'][0]['label'])  # answer label\n",
    "\n",
    "# Access list of conditions with probabilities\n",
    "print(request.conditions)\n",
    "print(request.conditions[0]['id'])\n",
    "print(request.conditions[0]['name'])\n",
    "print(request.conditions[0]['probability'])\n",
    "\n",
    "# Next update the request and get next question:\n",
    "# Just example, the id and answer shall be taken from the real user answer\n",
    "request.add_symptom(request.question.items[0]['id'], request.question.items[0]['choices'][1]['id'])\n",
    "\n",
    "# call diagnosis method again\n",
    "request = api.diagnosis(request)"
   ]
  },
  {
   "cell_type": "code",
   "execution_count": null,
   "metadata": {},
   "outputs": [],
   "source": []
  },
  {
   "cell_type": "code",
   "execution_count": null,
   "metadata": {},
   "outputs": [],
   "source": [
    "\n"
   ]
  },
  {
   "cell_type": "code",
   "execution_count": null,
   "metadata": {},
   "outputs": [],
   "source": []
  },
  {
   "cell_type": "code",
   "execution_count": null,
   "metadata": {},
   "outputs": [],
   "source": []
  },
  {
   "cell_type": "code",
   "execution_count": null,
   "metadata": {},
   "outputs": [],
   "source": []
  },
  {
   "cell_type": "code",
   "execution_count": null,
   "metadata": {},
   "outputs": [],
   "source": []
  }
 ],
 "metadata": {
  "kernelspec": {
   "display_name": "Python 3",
   "language": "python",
   "name": "python3"
  },
  "language_info": {
   "codemirror_mode": {
    "name": "ipython",
    "version": 3
   },
   "file_extension": ".py",
   "mimetype": "text/x-python",
   "name": "python",
   "nbconvert_exporter": "python",
   "pygments_lexer": "ipython3",
   "version": "3.6.6"
  }
 },
 "nbformat": 4,
 "nbformat_minor": 2
}
