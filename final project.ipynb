{
 "cells": [
  {
   "cell_type": "code",
   "execution_count": null,
   "metadata": {},
   "outputs": [],
   "source": [
    "\n"
   ]
  },
  {
   "cell_type": "code",
   "execution_count": 1,
   "metadata": {},
   "outputs": [
    {
     "name": "stdout",
     "output_type": "stream",
     "text": [
      "{'updated_at': '2019-03-04T19:13:02Z', 'conditions_count': 610, 'symptoms_count': 1185, 'risk_factors_count': 103, 'lab_tests_count': 486}\n"
     ]
    }
   ],
   "source": [
    "#configures to a global API\n",
    "\n",
    "import infermedica_api\n",
    "api = infermedica_api.API(app_id='6e943b86', app_key='99f96a18061377ea160150a5e5e63ec9')\n",
    "\n",
    "print(api.info())"
   ]
  },
  {
   "cell_type": "code",
   "execution_count": 2,
   "metadata": {},
   "outputs": [
    {
     "data": {
      "text/plain": [
       "<infermedica_api.webservice.API at 0x10b0ea080>"
      ]
     },
     "execution_count": 2,
     "metadata": {},
     "output_type": "execute_result"
    }
   ],
   "source": [
    "#Configure with non-global API\n",
    "\n",
    "\n",
    "import infermedica_api\n",
    "\n",
    "infermedica_api.configure(app_id='6e943b86', app_key='99f96a18061377ea160150a5e5e63ec9')"
   ]
  },
  {
   "cell_type": "code",
   "execution_count": 3,
   "metadata": {},
   "outputs": [
    {
     "name": "stdout",
     "output_type": "stream",
     "text": [
      "Please input your sex: female\n",
      "Please input your age: 19\n",
      "Please list your top symptons: headache, cough\n"
     ]
    }
   ],
   "source": [
    "#group member will ask vistor to project station to answer these 3 questions\n",
    "\n",
    "sex = input(\"Please input your sex: \")\n",
    "age = input(\"Please input your age: \")\n",
    "symptons = input(\"Please list at least 3 symptons: \")"
   ]
  },
  {
   "cell_type": "code",
   "execution_count": 4,
   "metadata": {},
   "outputs": [
    {
     "name": "stdout",
     "output_type": "stream",
     "text": [
      "{\n",
      "    \"extras\": {},\n",
      "    \"items\": [\n",
      "        {\n",
      "            \"choices\": [\n",
      "                {\n",
      "                    \"id\": \"present\",\n",
      "                    \"label\": \"Yes\"\n",
      "                },\n",
      "                {\n",
      "                    \"id\": \"absent\",\n",
      "                    \"label\": \"No\"\n",
      "                },\n",
      "                {\n",
      "                    \"id\": \"unknown\",\n",
      "                    \"label\": \"Don't know\"\n",
      "                }\n",
      "            ],\n",
      "            \"id\": \"s_1139\",\n",
      "            \"name\": \"Suicidal thoughts\"\n",
      "        }\n",
      "    ],\n",
      "    \"text\": \"Do you have thoughts about killing yourself?\",\n",
      "    \"type\": \"single\"\n",
      "}\n",
      "Do you have thoughts about killing yourself?\n",
      "[{'id': 's_1139', 'name': 'Suicidal thoughts', 'choices': [{'id': 'present', 'label': 'Yes'}, {'id': 'absent', 'label': 'No'}, {'id': 'unknown', 'label': \"Don't know\"}]}]\n",
      "s_1139\n",
      "Suicidal thoughts\n",
      "[{'id': 'present', 'label': 'Yes'}, {'id': 'absent', 'label': 'No'}, {'id': 'unknown', 'label': \"Don't know\"}]\n",
      "present\n",
      "Yes\n",
      "[\n",
      "    {\n",
      "        \"common_name\": \"General anxiety disorder\",\n",
      "        \"id\": \"c_225\",\n",
      "        \"name\": \"General anxiety disorder\",\n",
      "        \"probability\": 0.0147\n",
      "    }\n",
      "]\n",
      "c_225\n",
      "General anxiety disorder\n",
      "0.0147\n"
     ]
    }
   ],
   "source": [
    "#group memeber will enter the data outputs provided above into the following code. \n",
    "#Once the info is added into the code, the API will generat the diaganosis\n",
    "    \n",
    "import infermedica_api\n",
    "\n",
    "api = infermedica_api.get_api()\n",
    "\n",
    "# Create diagnosis object with initial patient information.\n",
    "# edit sex and age for each user - have the user input their info\n",
    "\n",
    "\n",
    "request = infermedica_api.Diagnosis(sex='male', age=20)\n",
    "\n",
    "\n",
    "\n",
    "#Enter the sympton number and if its present or absent\n",
    "#User enters id number for their symptons\n",
    "\n",
    "request.add_symptom('s_130', 'present')\n",
    "request.add_symptom('s_120', 'present')\n",
    "request.add_symptom('s_517', 'absent')\n",
    "\n",
    "# call diagnosis\n",
    "request = api.diagnosis(request)\n",
    "\n",
    "# Access question asked by API - API will generate the questions to fit the symptons listed\n",
    "print(request.question)\n",
    "print(request.question.text)  # actual text of the question\n",
    "print(request.question.items)  # list of related evidences with possible answers\n",
    "print(request.question.items[0]['id'])\n",
    "print(request.question.items[0]['name'])\n",
    "print(request.question.items[0]['choices'])  # list of possible answers\n",
    "print(request.question.items[0]['choices'][0]['id'])  # answer id\n",
    "print(request.question.items[0]['choices'][0]['label'])  # answer label\n",
    "\n",
    "# Access list of conditions with probabilities\n",
    "print(request.conditions)\n",
    "print(request.conditions[0]['id'])\n",
    "print(request.conditions[0]['name'])\n",
    "print(request.conditions[0]['probability'])\n",
    "\n",
    "# Next update the request and get next question:\n",
    "# Just example, the id and answer shall be taken from the real user answer\n",
    "request.add_symptom(request.question.items[0]['id'], request.question.items[0]['choices'][1]['id'])\n",
    "\n",
    "# call diagnosis method again\n",
    "request = api.diagnosis(request)"
   ]
  },
  {
   "cell_type": "code",
   "execution_count": null,
   "metadata": {},
   "outputs": [],
   "source": []
  },
  {
   "cell_type": "code",
   "execution_count": null,
   "metadata": {},
   "outputs": [],
   "source": [
    "\n"
   ]
  },
  {
   "cell_type": "code",
   "execution_count": null,
   "metadata": {},
   "outputs": [],
   "source": []
  },
  {
   "cell_type": "code",
   "execution_count": null,
   "metadata": {},
   "outputs": [],
   "source": []
  },
  {
   "cell_type": "code",
   "execution_count": null,
   "metadata": {},
   "outputs": [],
   "source": []
  },
  {
   "cell_type": "code",
   "execution_count": null,
   "metadata": {},
   "outputs": [],
   "source": [
    "\n"
   ]
  },
  {
   "cell_type": "code",
   "execution_count": null,
   "metadata": {},
   "outputs": [],
   "source": []
  },
  {
   "cell_type": "code",
   "execution_count": null,
   "metadata": {},
   "outputs": [],
   "source": []
  }
 ],
 "metadata": {
  "kernelspec": {
   "display_name": "Python 3",
   "language": "python",
   "name": "python3"
  },
  "language_info": {
   "codemirror_mode": {
    "name": "ipython",
    "version": 3
   },
   "file_extension": ".py",
   "mimetype": "text/x-python",
   "name": "python",
   "nbconvert_exporter": "python",
   "pygments_lexer": "ipython3",
   "version": "3.6.6"
  }
 },
 "nbformat": 4,
 "nbformat_minor": 2
}
