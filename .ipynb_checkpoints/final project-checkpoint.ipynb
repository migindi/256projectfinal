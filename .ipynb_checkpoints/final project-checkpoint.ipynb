{
 "cells": [
  {
   "cell_type": "code",
   "execution_count": null,
   "metadata": {},
   "outputs": [],
   "source": [
    "\n",
    "\n",
    "\n",
    "#Get user inputs on whether they have specific conditions\n",
    "userFever = input(\"Do you have a fever (y/n): \")\n",
    "\n",
    "\n",
    "userRash = input(\"Do you have a rash (y/n): \")\n",
    "\n",
    "userEar = input(\"Does your ear hurt (y/n): \")\n",
    "\n",
    "\n",
    "userNose = input(\"Do you have a stuffy nose (y/n): \")\n",
    "\n",
    "\n",
    "\n",
    "#Conditional statements that determine the diagnosis of the user\n",
    "if userFever == 'n' and userNose == 'n':\n",
    "    print(\"Diagnosis: You are Hypchondriac\")\n",
    "elif userFever == 'n' and userNose == 'y':\n",
    "    print(\"Diagnosis: You have a Head Cold\")\n",
    "elif userFever == 'y' and userRash == 'n' and userEar == 'y':\n",
    "    print(\"Diagnosis: You have an ear infection\")\n",
    "elif userFever == 'y' and userRash == 'n' and userEar == 'n':\n",
    "    \n",
    "    print(\"Diagnosis: You have the flu\")\n",
    "elif userFever == 'y' and userRash == 'y':\n",
    "    print(\"Diagnosis: You have the measles\")[1]\n",
    "    "
   ]
  },
  {
   "cell_type": "code",
   "execution_count": 1,
   "metadata": {},
   "outputs": [
    {
     "name": "stdout",
     "output_type": "stream",
     "text": [
      "{'updated_at': '2019-03-04T19:13:02Z', 'conditions_count': 610, 'symptoms_count': 1185, 'risk_factors_count': 103, 'lab_tests_count': 486}\n"
     ]
    }
   ],
   "source": [
    "import infermedica_api\n",
    "api = infermedica_api.API(app_id='6e943b86', app_key='99f96a18061377ea160150a5e5e63ec9')\n",
    "\n",
    "print(api.info())"
   ]
  },
  {
   "cell_type": "code",
   "execution_count": null,
   "metadata": {},
   "outputs": [],
   "source": [
    "\n",
    "    \n",
    "import infermedica_api\n",
    "\n",
    "api = infermedica_api.get_api()\n",
    "\n",
    "# Create diagnosis object with initial patient information.\n",
    "# Note that time argument is optional here as well as in the add_symptom function\n",
    "request = infermedica_api.Diagnosis(sex='male', age=35)\n",
    "\n",
    "request.add_symptom('s_21', 'present')\n",
    "request.add_symptom('s_98', 'present')\n",
    "request.add_symptom('s_107', 'absent')\n",
    "\n",
    "# call diagnosis\n",
    "request = api.diagnosis(request)\n",
    "\n",
    "# Access question asked by API\n",
    "print(request.question)\n",
    "print(request.question.text)  # actual text of the question\n",
    "print(request.question.items)  # list of related evidences with possible answers\n",
    "print(request.question.items[0]['id'])\n",
    "print(request.question.items[0]['name'])\n",
    "print(request.question.items[0]['choices'])  # list of possible answers\n",
    "print(request.question.items[0]['choices'][0]['id'])  # answer id\n",
    "print(request.question.items[0]['choices'][0]['label'])  # answer label\n",
    "\n",
    "# Access list of conditions with probabilities\n",
    "print(request.conditions)\n",
    "print(request.conditions[0]['id'])\n",
    "print(request.conditions[0]['name'])\n",
    "print(request.conditions[0]['probability'])\n",
    "\n",
    "# Next update the request and get next question:\n",
    "# Just example, the id and answer shall be taken from the real user answer\n",
    "request.add_symptom(request.question.items[0]['id'], request.question.items[0]['choices'][1]['id'])\n",
    "\n",
    "# call diagnosis method again\n",
    "request = api.diagnosis(request)"
   ]
  },
  {
   "cell_type": "code",
   "execution_count": null,
   "metadata": {},
   "outputs": [],
   "source": []
  },
  {
   "cell_type": "code",
   "execution_count": null,
   "metadata": {},
   "outputs": [],
   "source": [
    "\n"
   ]
  },
  {
   "cell_type": "code",
   "execution_count": null,
   "metadata": {},
   "outputs": [],
   "source": [
    "username = \"p4P8H_SYR_EDU_AUT\n",
    "\" # Here enter your API user name\n",
    "password = \"Lf59DjWp87Jei4B3P\" # Here enter your API password\n",
    "priaid_authservice_url = \"https://authservice.priaid.ch\" # Be aware that sandbox link is for testing pourpose (not real data) once you get live access you shold use https://authservice.priaid.ch/login\n",
    "priaid_healthservice_url = \"https://authservice.priaid.chh\" # Be aware that sandbox link is for testing pourpose (not real data) once you get live access you shold use https://healthservice.priaid.ch\n",
    "language = \"en-gb\" # en-gb, de-ch, fr-fr, it-it, es-es, ar-sa, ru-ru, tr-tr, sr-sp, sk-sk...\n",
    "pritnRawOutput = False # This flag can be set to see printed json data structure of webservice responses\n"
   ]
  },
  {
   "cell_type": "code",
   "execution_count": null,
   "metadata": {},
   "outputs": [],
   "source": [
    "from __future__ import print_function\n",
    "import config\n",
    "\n",
    "config.setup_examples()\n",
    "import infermedica_api\n",
    "\n",
    "\n",
    "if __name__ == '__main__':\n",
    "    api = infermedica_api.get_api()\n",
    "\n",
    "    request = infermedica_api.Diagnosis(sex='female', age=35)\n",
    "\n",
    "    request.add_symptom('s_21', 'present', initial=True)\n",
    "    request.add_symptom('s_98', 'present', initial=True)\n",
    "    request.add_symptom('s_107', 'absent')\n",
    "\n",
    "    # call diagnosis\n",
    "    request = api.diagnosis(request)\n",
    "\n",
    "    print(request)\n",
    "\n",
    "    # ask patient the questions returned by diagnosis and update request with patient answers\n",
    "    request.add_symptom('s_99', 'present')\n",
    "    request.add_symptom('s_8', 'absent')\n",
    "    request.add_symptom('s_25', 'present')\n",
    "    # ... and so on until you decided that enough question have been asked\n",
    "    # or you have sufficient results in request.conditions\n",
    "\n",
    "    # call diagnosis again with updated request\n",
    "    request = api.diagnosis(request)\n",
    "\n",
    "    # repeat the process\n",
    "    print('\\n\\n', request)\n"
   ]
  },
  {
   "cell_type": "code",
   "execution_count": null,
   "metadata": {},
   "outputs": [],
   "source": []
  },
  {
   "cell_type": "code",
   "execution_count": null,
   "metadata": {},
   "outputs": [],
   "source": []
  }
 ],
 "metadata": {
  "kernelspec": {
   "display_name": "Python 3",
   "language": "python",
   "name": "python3"
  },
  "language_info": {
   "codemirror_mode": {
    "name": "ipython",
    "version": 3
   },
   "file_extension": ".py",
   "mimetype": "text/x-python",
   "name": "python",
   "nbconvert_exporter": "python",
   "pygments_lexer": "ipython3",
   "version": "3.6.6"
  }
 },
 "nbformat": 4,
 "nbformat_minor": 2
}
